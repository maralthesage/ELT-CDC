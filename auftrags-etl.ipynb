{
 "cells": [
  {
   "cell_type": "code",
   "execution_count": null,
   "metadata": {},
   "outputs": [],
   "source": [
    "from dbfread import DBF, DBFNotFound\n",
    "import os\n",
    "from datetime import date\n",
    "import pandas as pd"
   ]
  },
  {
   "cell_type": "code",
   "execution_count": null,
   "metadata": {},
   "outputs": [],
   "source": [
    "herkunft = {\n",
    "    \"1\": \"Schriftlich\",\n",
    "    \"2\": \"Fax\",\n",
    "    \"3\": \"Telefon\",\n",
    "    \"4\": \"Internet\",\n",
    "    \"5\": \"Call-Center\",\n",
    "    \"6\": \"Ladenverkauf\",\n",
    "    \"7\": \"Vertreter\",\n",
    "    \"8\": \"E-Mail\",\n",
    "    \"9\": \"Anrufbeantworter/Mailbox\",\n",
    "    \"B\": \"Beleglesung\",\n",
    "    \"E\": \"Marktplätze\",\n",
    "    \"F\": \"Amazon-Fulfillment\",\n",
    "    \"M\": \"Messe\",\n",
    "    \"S\": \"SMS\",\n",
    "    \"nan\": \"Ohne/Unbekannt\",\n",
    "}\n",
    "\n",
    "reasons = {\n",
    "    \"1\": \"Lagerstorno\",\n",
    "    \"10\": \"Auftrag in Angebot\",\n",
    "    \"11\": \"Artikel ausverkauft\",\n",
    "    \"12\": \"offener Saldo\",\n",
    "    \"13\": \"Weihnachten zu spät\",\n",
    "    \"14\": \"Terminauftrag\",\n",
    "    \"15\": \"Auftrag doppelt\",\n",
    "    \"16\": \"TK Ausland\",\n",
    "    \"17\": \"Fehler bei Erfassung\",\n",
    "    \"18\": \"Kundenwunsch/Kundenstorno\",\n",
    "    \"19\": \"Aufträge zusammengefasst\",\n",
    "    \"2\": \"Kunde lehnt Vorauskasse ab\",\n",
    "    \"20\": \"Zahlung abgelehnt\",\n",
    "    \"3\": \"Vorkasse nicht erfolgt\",\n",
    "    \"4\": \"Unzufriedenheit Kunde\",\n",
    "    \"5\": \"Empfänger unbekannt\",\n",
    "    \"6\": \"Dubios\",\n",
    "    \"7\": \"sonstiges\",\n",
    "    \"8\": \"Testauftrag\",\n",
    "    \"9\": \"Lieferzeit zu lang\",\n",
    "}"
   ]
  },
  {
   "cell_type": "code",
   "execution_count": null,
   "metadata": {},
   "outputs": [],
   "source": [
    "def read_dbf(file_path):\n",
    "    table = DBF(file_path, load=True, encoding=\"cp850\", ignore_missing_memofile=True)\n",
    "    df = pd.DataFrame(iter(table))\n",
    "    return df\n",
    "\n",
    "\n",
    "def write_csv(df, file_name):\n",
    "    df.to_csv(file_name, sep=\";\", encoding=\"cp850\", index=False)"
   ]
  },
  {
   "cell_type": "code",
   "execution_count": null,
   "metadata": {},
   "outputs": [],
   "source": [
    "this_month = date.today().strftime(\"%Y%m\")\n",
    "last_month = f\"{int(this_month) - 1}\"\n"
   ]
  },
  {
   "cell_type": "code",
   "execution_count": null,
   "metadata": {},
   "outputs": [],
   "source": [
    "auf_gel = []\n",
    "lands = [\"F01\", \"F02\", \"F03\", \"F04\"]\n",
    "# FILE_NAME = 'V4AUProKopf202501'\n",
    "this_month = f\"V4AUProKopf{this_month}\"\n",
    "file = f\"V4AUProKopf{last_month}\"\n",
    "\n",
    "for LAND in lands:\n",
    "    # dbf_file_path = f'/Volumes/DATA/{LAND}/{FILE_NAME}.dbf'\n",
    "    dbf_file_path = f\"/Volumes/DuG/VS/Dg/VC2/{LAND}/AUFTRAG/{file}.dbf\"\n",
    "\n",
    "    csv_file_path = f\"/Volumes/MARAL/CSV/{LAND}/{file}.csv\"\n",
    "\n",
    "    if os.path.exists(csv_file_path):\n",
    "        print(f\"The file at {csv_file_path} exists.\")\n",
    "        modification_time = os.path.getmtime(csv_file_path)\n",
    "        modification_date = date.fromtimestamp(modification_time)\n",
    "        print(modification_date)\n",
    "\n",
    "        today_date = date.today()\n",
    "        print(today_date)\n",
    "        if modification_date != today_date:\n",
    "            dbf = read_dbf(dbf_file_path)\n",
    "            write_csv(dbf, csv_file_path)\n",
    "\n",
    "        df = pd.read_csv(csv_file_path, encoding=\"cp850\", on_bad_lines=\"skip\", sep=\";\")\n",
    "    else:\n",
    "        print(f\"The file at {csv_file_path} does not exist.\")\n",
    "        dbf = read_dbf(dbf_file_path)\n",
    "        write_csv(dbf, csv_file_path)\n",
    "        df = pd.DataFrame(iter(dbf))\n",
    "    auf_gel.append(dbf)\n",
    "\n",
    "dbf_ges = pd.concat(auf_gel)"
   ]
  },
  {
   "cell_type": "code",
   "execution_count": null,
   "metadata": {},
   "outputs": [],
   "source": [
    "nf_gel = []\n",
    "lands = [\"F01\", \"F02\", \"F03\", \"F04\"]\n",
    "# FILE_NAME = 'V4AUProKopf202501'\n",
    "file = \"V2SC1010\"\n",
    "\n",
    "\n",
    "for LAND in lands:\n",
    "    # dbf_file_path = f'/Volumes/DATA/{LAND}/{FILE_NAME}.dbf'\n",
    "    dbf_file_path = f\"/Volumes/DuG/VS/Dg/VC2/{LAND}/SCHNITT/{file}.dbf\"\n",
    "\n",
    "    csv_file_path = f\"/Volumes/MARAL/CSV/{LAND}/{file}.csv\"\n",
    "\n",
    "    if os.path.exists(csv_file_path):\n",
    "        print(f\"The file at {csv_file_path} exists.\")\n",
    "        modification_time = os.path.getmtime(csv_file_path)\n",
    "        modification_date = date.fromtimestamp(modification_time)\n",
    "        print(modification_date)\n",
    "\n",
    "        today_date = date.today()\n",
    "        print(today_date)\n",
    "        if modification_date != today_date:\n",
    "            dbf_nf = read_dbf(dbf_file_path)\n",
    "            write_csv(dbf_nf, csv_file_path)\n",
    "\n",
    "        df_nf = pd.read_csv(\n",
    "            csv_file_path, encoding=\"cp850\", on_bad_lines=\"skip\", sep=\";\"\n",
    "        )\n",
    "    else:\n",
    "        print(f\"The file at {csv_file_path} does not exist.\")\n",
    "        dbf_nf = read_dbf(dbf_file_path)\n",
    "        write_csv(dbf_nf, csv_file_path)\n",
    "        df_nf = pd.DataFrame(iter(dbf_nf))\n",
    "    nf_gel.append(dbf_nf)\n",
    "\n",
    "nf_ges = pd.concat(nf_gel)"
   ]
  },
  {
   "cell_type": "code",
   "execution_count": null,
   "metadata": {},
   "outputs": [],
   "source": [
    "nf_ges_copy = nf_ges.copy()\n",
    "dbf_ges_copy = dbf_ges.copy()"
   ]
  },
  {
   "cell_type": "code",
   "execution_count": null,
   "metadata": {},
   "outputs": [],
   "source": [
    "nf_ges_copy = nf_ges.drop_duplicates()"
   ]
  },
  {
   "cell_type": "code",
   "execution_count": null,
   "metadata": {},
   "outputs": [],
   "source": [
    "dbf_ges_copy = dbf_ges_copy[\n",
    "    [\n",
    "        \"ADR_NR\",\n",
    "        \"AUFTRAG_NR\",\n",
    "        \"DATUM\",\n",
    "        \"BEST_WERT\",\n",
    "        \"RECH_NR\",\n",
    "        \"SYS_ANLAGE\",\n",
    "        \"LAGERPLATZ\",\n",
    "        \"ZAHLART\",\n",
    "        \"ERFASSER\",\n",
    "        \"LKZ\",\n",
    "    ]\n",
    "]\n",
    "dbf_ges_copy = dbf_ges_copy.rename(\n",
    "    columns={\"LAGERPLATZ\": \"LOESCHGRUND\", \"ERFASSER\": \"BEARBEITER\"}\n",
    ")\n",
    "dbf_ges_copy[\"AUFTRAG_NR\"] = (\n",
    "    dbf_ges_copy[\"AUFTRAG_NR\"].astype(str).str.replace(\".0\", \"\").str.zfill(10)\n",
    ")"
   ]
  },
  {
   "cell_type": "code",
   "execution_count": null,
   "metadata": {},
   "outputs": [],
   "source": [
    "nf_ges_copy = nf_ges_copy[\n",
    "    [\n",
    "        \"AUFTRAG_NR\",\n",
    "        \"DATUM\",\n",
    "        \"MEDIACODE\",\n",
    "        \"HERKUNFT\",\n",
    "        \"RECH_ART\",\n",
    "        \"ART_NR\",\n",
    "        \"GROESSE\",\n",
    "        \"FARBE\",\n",
    "        \"MENGE\",\n",
    "        \"PREIS\",\n",
    "        \"MWST\",\n",
    "        \"MWST_KZ\",\n",
    "        \"RETOUREGRD\",\n",
    "        \"RETOUREART\",\n",
    "        \"EK\",\n",
    "        \"WARENGR\",\n",
    "    ]\n",
    "]\n",
    "nf_ges_copy.sort_values(by=\"DATUM\", ascending=True)"
   ]
  },
  {
   "cell_type": "code",
   "execution_count": null,
   "metadata": {},
   "outputs": [],
   "source": []
  },
  {
   "cell_type": "code",
   "execution_count": null,
   "metadata": {},
   "outputs": [],
   "source": [
    "nf_ges_copy = nf_ges_copy[nf_ges_copy[\"NACHFRAGE_DATUM\"] >= \"2024-01-01\"]\n",
    "nf_ges_copy[\"AUFTRAG_NR\"] = (\n",
    "    nf_ges_copy[\"AUFTRAG_NR\"].astype(str).str.replace(\".0\", \"\").str.zfill(10)\n",
    ")\n",
    "\n",
    "df_merge = dbf_ges_copy.merge(nf_ges_copy, on=\"AUFTRAG_NR\", how=\"left\")\n",
    "df_merge.to_excel(\"test.xlsx\", index=False)\n"
   ]
  }
 ],
 "metadata": {
  "kernelspec": {
   "display_name": "myenv",
   "language": "python",
   "name": "python3"
  },
  "language_info": {
   "codemirror_mode": {
    "name": "ipython",
    "version": 3
   },
   "file_extension": ".py",
   "mimetype": "text/x-python",
   "name": "python",
   "nbconvert_exporter": "python",
   "pygments_lexer": "ipython3",
   "version": "3.10.0"
  }
 },
 "nbformat": 4,
 "nbformat_minor": 2
}
